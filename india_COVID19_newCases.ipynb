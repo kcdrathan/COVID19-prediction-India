{
  "nbformat": 4,
  "nbformat_minor": 0,
  "metadata": {
    "colab": {
      "name": "india COVID19",
      "provenance": [],
      "collapsed_sections": []
    },
    "kernelspec": {
      "name": "python3",
      "display_name": "Python 3"
    }
  },
  "cells": [
    {
      "cell_type": "code",
      "metadata": {
        "id": "R8DEUMjgUyYX"
      },
      "source": [
        "import pandas as pd\n",
        "import numpy as np\n",
        "import matplotlib.pyplot as plt\n",
        "import seaborn as sns\n",
        "\n",
        "%matplotlib inline"
      ],
      "execution_count": null,
      "outputs": []
    },
    {
      "cell_type": "code",
      "metadata": {
        "id": "m9oW8ZccVwsf",
        "outputId": "77b83a7f-facd-4796-d2fc-8f676147498e",
        "colab": {
          "base_uri": "https://localhost:8080/",
          "height": 195
        }
      },
      "source": [
        "df = pd.read_csv(\"/content/drive/My Drive/Academics/WHO-COVID-19-global-data.csv\",\n",
        "                 parse_dates=[\"Date_reported\"])\n",
        "df.rename(columns={'Date_reported': 'date', \n",
        "                   ' Country_code': 'country_code', \n",
        "                   ' Country': 'country', ' WHO_region': 'WHO_region', \n",
        "                   ' New_cases': 'new_cases', \n",
        "                   ' Cumulative_cases': 'cumulative_cases', \n",
        "                   ' New_deaths': 'new_deaths', \n",
        "                   ' Cumulative_deaths': 'cumulative_deaths'}, \n",
        "          inplace=True)\n",
        "df.head()"
      ],
      "execution_count": null,
      "outputs": [
        {
          "output_type": "execute_result",
          "data": {
            "text/html": [
              "<div>\n",
              "<style scoped>\n",
              "    .dataframe tbody tr th:only-of-type {\n",
              "        vertical-align: middle;\n",
              "    }\n",
              "\n",
              "    .dataframe tbody tr th {\n",
              "        vertical-align: top;\n",
              "    }\n",
              "\n",
              "    .dataframe thead th {\n",
              "        text-align: right;\n",
              "    }\n",
              "</style>\n",
              "<table border=\"1\" class=\"dataframe\">\n",
              "  <thead>\n",
              "    <tr style=\"text-align: right;\">\n",
              "      <th></th>\n",
              "      <th>date</th>\n",
              "      <th>country_code</th>\n",
              "      <th>country</th>\n",
              "      <th>WHO_region</th>\n",
              "      <th>new_cases</th>\n",
              "      <th>cumulative_cases</th>\n",
              "      <th>new_deaths</th>\n",
              "      <th>cumulative_deaths</th>\n",
              "    </tr>\n",
              "  </thead>\n",
              "  <tbody>\n",
              "    <tr>\n",
              "      <th>0</th>\n",
              "      <td>2020-02-24</td>\n",
              "      <td>AF</td>\n",
              "      <td>Afghanistan</td>\n",
              "      <td>EMRO</td>\n",
              "      <td>5</td>\n",
              "      <td>5</td>\n",
              "      <td>0</td>\n",
              "      <td>0</td>\n",
              "    </tr>\n",
              "    <tr>\n",
              "      <th>1</th>\n",
              "      <td>2020-02-25</td>\n",
              "      <td>AF</td>\n",
              "      <td>Afghanistan</td>\n",
              "      <td>EMRO</td>\n",
              "      <td>0</td>\n",
              "      <td>5</td>\n",
              "      <td>0</td>\n",
              "      <td>0</td>\n",
              "    </tr>\n",
              "    <tr>\n",
              "      <th>2</th>\n",
              "      <td>2020-02-26</td>\n",
              "      <td>AF</td>\n",
              "      <td>Afghanistan</td>\n",
              "      <td>EMRO</td>\n",
              "      <td>0</td>\n",
              "      <td>5</td>\n",
              "      <td>0</td>\n",
              "      <td>0</td>\n",
              "    </tr>\n",
              "    <tr>\n",
              "      <th>3</th>\n",
              "      <td>2020-02-27</td>\n",
              "      <td>AF</td>\n",
              "      <td>Afghanistan</td>\n",
              "      <td>EMRO</td>\n",
              "      <td>0</td>\n",
              "      <td>5</td>\n",
              "      <td>0</td>\n",
              "      <td>0</td>\n",
              "    </tr>\n",
              "    <tr>\n",
              "      <th>4</th>\n",
              "      <td>2020-02-28</td>\n",
              "      <td>AF</td>\n",
              "      <td>Afghanistan</td>\n",
              "      <td>EMRO</td>\n",
              "      <td>0</td>\n",
              "      <td>5</td>\n",
              "      <td>0</td>\n",
              "      <td>0</td>\n",
              "    </tr>\n",
              "  </tbody>\n",
              "</table>\n",
              "</div>"
            ],
            "text/plain": [
              "        date country_code  ... new_deaths cumulative_deaths\n",
              "0 2020-02-24           AF  ...          0                 0\n",
              "1 2020-02-25           AF  ...          0                 0\n",
              "2 2020-02-26           AF  ...          0                 0\n",
              "3 2020-02-27           AF  ...          0                 0\n",
              "4 2020-02-28           AF  ...          0                 0\n",
              "\n",
              "[5 rows x 8 columns]"
            ]
          },
          "metadata": {
            "tags": []
          },
          "execution_count": 55
        }
      ]
    },
    {
      "cell_type": "code",
      "metadata": {
        "id": "-qDX_fuDhNOx",
        "outputId": "9df5079d-eaa4-49aa-c32c-3127ef12c922",
        "colab": {
          "base_uri": "https://localhost:8080/",
          "height": 195
        }
      },
      "source": [
        "df = df[df.country == \"India\"]\n",
        "df.head()"
      ],
      "execution_count": null,
      "outputs": [
        {
          "output_type": "execute_result",
          "data": {
            "text/html": [
              "<div>\n",
              "<style scoped>\n",
              "    .dataframe tbody tr th:only-of-type {\n",
              "        vertical-align: middle;\n",
              "    }\n",
              "\n",
              "    .dataframe tbody tr th {\n",
              "        vertical-align: top;\n",
              "    }\n",
              "\n",
              "    .dataframe thead th {\n",
              "        text-align: right;\n",
              "    }\n",
              "</style>\n",
              "<table border=\"1\" class=\"dataframe\">\n",
              "  <thead>\n",
              "    <tr style=\"text-align: right;\">\n",
              "      <th></th>\n",
              "      <th>date</th>\n",
              "      <th>country_code</th>\n",
              "      <th>country</th>\n",
              "      <th>WHO_region</th>\n",
              "      <th>new_cases</th>\n",
              "      <th>cumulative_cases</th>\n",
              "      <th>new_deaths</th>\n",
              "      <th>cumulative_deaths</th>\n",
              "    </tr>\n",
              "  </thead>\n",
              "  <tbody>\n",
              "    <tr>\n",
              "      <th>17276</th>\n",
              "      <td>2020-01-30</td>\n",
              "      <td>IN</td>\n",
              "      <td>India</td>\n",
              "      <td>SEARO</td>\n",
              "      <td>5</td>\n",
              "      <td>5</td>\n",
              "      <td>0</td>\n",
              "      <td>0</td>\n",
              "    </tr>\n",
              "    <tr>\n",
              "      <th>17277</th>\n",
              "      <td>2020-01-31</td>\n",
              "      <td>IN</td>\n",
              "      <td>India</td>\n",
              "      <td>SEARO</td>\n",
              "      <td>0</td>\n",
              "      <td>5</td>\n",
              "      <td>0</td>\n",
              "      <td>0</td>\n",
              "    </tr>\n",
              "    <tr>\n",
              "      <th>17278</th>\n",
              "      <td>2020-02-01</td>\n",
              "      <td>IN</td>\n",
              "      <td>India</td>\n",
              "      <td>SEARO</td>\n",
              "      <td>0</td>\n",
              "      <td>5</td>\n",
              "      <td>0</td>\n",
              "      <td>0</td>\n",
              "    </tr>\n",
              "    <tr>\n",
              "      <th>17279</th>\n",
              "      <td>2020-02-02</td>\n",
              "      <td>IN</td>\n",
              "      <td>India</td>\n",
              "      <td>SEARO</td>\n",
              "      <td>1</td>\n",
              "      <td>6</td>\n",
              "      <td>0</td>\n",
              "      <td>0</td>\n",
              "    </tr>\n",
              "    <tr>\n",
              "      <th>17280</th>\n",
              "      <td>2020-02-03</td>\n",
              "      <td>IN</td>\n",
              "      <td>India</td>\n",
              "      <td>SEARO</td>\n",
              "      <td>1</td>\n",
              "      <td>7</td>\n",
              "      <td>0</td>\n",
              "      <td>0</td>\n",
              "    </tr>\n",
              "  </tbody>\n",
              "</table>\n",
              "</div>"
            ],
            "text/plain": [
              "            date country_code  ... new_deaths cumulative_deaths\n",
              "17276 2020-01-30           IN  ...          0                 0\n",
              "17277 2020-01-31           IN  ...          0                 0\n",
              "17278 2020-02-01           IN  ...          0                 0\n",
              "17279 2020-02-02           IN  ...          0                 0\n",
              "17280 2020-02-03           IN  ...          0                 0\n",
              "\n",
              "[5 rows x 8 columns]"
            ]
          },
          "metadata": {
            "tags": []
          },
          "execution_count": 56
        }
      ]
    },
    {
      "cell_type": "code",
      "metadata": {
        "id": "w3hx8Ob1Wcv2",
        "outputId": "11598f62-22da-40e4-a462-8a78c145dd68",
        "colab": {
          "base_uri": "https://localhost:8080/",
          "height": 286
        }
      },
      "source": [
        "df.info()"
      ],
      "execution_count": null,
      "outputs": [
        {
          "output_type": "stream",
          "text": [
            "<class 'pandas.core.frame.DataFrame'>\n",
            "Int64Index: 224 entries, 17276 to 17499\n",
            "Data columns (total 8 columns):\n",
            " #   Column             Non-Null Count  Dtype         \n",
            "---  ------             --------------  -----         \n",
            " 0   date               224 non-null    datetime64[ns]\n",
            " 1   country_code       224 non-null    object        \n",
            " 2   country            224 non-null    object        \n",
            " 3   WHO_region         224 non-null    object        \n",
            " 4   new_cases          224 non-null    int64         \n",
            " 5   cumulative_cases   224 non-null    int64         \n",
            " 6   new_deaths         224 non-null    int64         \n",
            " 7   cumulative_deaths  224 non-null    int64         \n",
            "dtypes: datetime64[ns](1), int64(4), object(3)\n",
            "memory usage: 15.8+ KB\n"
          ],
          "name": "stdout"
        }
      ]
    },
    {
      "cell_type": "code",
      "metadata": {
        "id": "TSfjyxDtWzG2",
        "outputId": "ec33e8be-6d84-4714-a24c-9f08ab7e1083",
        "colab": {
          "base_uri": "https://localhost:8080/",
          "height": 178
        }
      },
      "source": [
        "df.isna().sum()"
      ],
      "execution_count": null,
      "outputs": [
        {
          "output_type": "execute_result",
          "data": {
            "text/plain": [
              "date                 0\n",
              "country_code         0\n",
              "country              0\n",
              "WHO_region           0\n",
              "new_cases            0\n",
              "cumulative_cases     0\n",
              "new_deaths           0\n",
              "cumulative_deaths    0\n",
              "dtype: int64"
            ]
          },
          "metadata": {
            "tags": []
          },
          "execution_count": 58
        }
      ]
    },
    {
      "cell_type": "code",
      "metadata": {
        "id": "vRpHvtjQaxYZ",
        "outputId": "e4496082-e252-48ea-feee-181574183d4d",
        "colab": {
          "base_uri": "https://localhost:8080/",
          "height": 265
        }
      },
      "source": [
        "fig, ax = plt.subplots()\n",
        "ax.plot(df.date, df.new_cases);"
      ],
      "execution_count": null,
      "outputs": [
        {
          "output_type": "display_data",
          "data": {
            "image/png": "[encoded data removed]",
            "text/plain": [
              "<Figure size 432x288 with 1 Axes>"
            ]
          },
          "metadata": {
            "tags": [],
            "needs_background": "light"
          }
        }
      ]
    },
    {
      "cell_type": "code",
      "metadata": {
        "id": "CZYU8FPFgZdl",
        "outputId": "4a88d787-dc69-43c5-f4d8-ece88ed6c49b",
        "colab": {
          "base_uri": "https://localhost:8080/",
          "height": 195
        }
      },
      "source": [
        "df.sort_values(by=[\"date\"], inplace=True)\n",
        "df.head()"
      ],
      "execution_count": null,
      "outputs": [
        {
          "output_type": "execute_result",
          "data": {
            "text/html": [
              "<div>\n",
              "<style scoped>\n",
              "    .dataframe tbody tr th:only-of-type {\n",
              "        vertical-align: middle;\n",
              "    }\n",
              "\n",
              "    .dataframe tbody tr th {\n",
              "        vertical-align: top;\n",
              "    }\n",
              "\n",
              "    .dataframe thead th {\n",
              "        text-align: right;\n",
              "    }\n",
              "</style>\n",
              "<table border=\"1\" class=\"dataframe\">\n",
              "  <thead>\n",
              "    <tr style=\"text-align: right;\">\n",
              "      <th></th>\n",
              "      <th>date</th>\n",
              "      <th>country_code</th>\n",
              "      <th>country</th>\n",
              "      <th>WHO_region</th>\n",
              "      <th>new_cases</th>\n",
              "      <th>cumulative_cases</th>\n",
              "      <th>new_deaths</th>\n",
              "      <th>cumulative_deaths</th>\n",
              "    </tr>\n",
              "  </thead>\n",
              "  <tbody>\n",
              "    <tr>\n",
              "      <th>17276</th>\n",
              "      <td>2020-01-30</td>\n",
              "      <td>IN</td>\n",
              "      <td>India</td>\n",
              "      <td>SEARO</td>\n",
              "      <td>5</td>\n",
              "      <td>5</td>\n",
              "      <td>0</td>\n",
              "      <td>0</td>\n",
              "    </tr>\n",
              "    <tr>\n",
              "      <th>17277</th>\n",
              "      <td>2020-01-31</td>\n",
              "      <td>IN</td>\n",
              "      <td>India</td>\n",
              "      <td>SEARO</td>\n",
              "      <td>0</td>\n",
              "      <td>5</td>\n",
              "      <td>0</td>\n",
              "      <td>0</td>\n",
              "    </tr>\n",
              "    <tr>\n",
              "      <th>17278</th>\n",
              "      <td>2020-02-01</td>\n",
              "      <td>IN</td>\n",
              "      <td>India</td>\n",
              "      <td>SEARO</td>\n",
              "      <td>0</td>\n",
              "      <td>5</td>\n",
              "      <td>0</td>\n",
              "      <td>0</td>\n",
              "    </tr>\n",
              "    <tr>\n",
              "      <th>17279</th>\n",
              "      <td>2020-02-02</td>\n",
              "      <td>IN</td>\n",
              "      <td>India</td>\n",
              "      <td>SEARO</td>\n",
              "      <td>1</td>\n",
              "      <td>6</td>\n",
              "      <td>0</td>\n",
              "      <td>0</td>\n",
              "    </tr>\n",
              "    <tr>\n",
              "      <th>17280</th>\n",
              "      <td>2020-02-03</td>\n",
              "      <td>IN</td>\n",
              "      <td>India</td>\n",
              "      <td>SEARO</td>\n",
              "      <td>1</td>\n",
              "      <td>7</td>\n",
              "      <td>0</td>\n",
              "      <td>0</td>\n",
              "    </tr>\n",
              "  </tbody>\n",
              "</table>\n",
              "</div>"
            ],
            "text/plain": [
              "            date country_code  ... new_deaths cumulative_deaths\n",
              "17276 2020-01-30           IN  ...          0                 0\n",
              "17277 2020-01-31           IN  ...          0                 0\n",
              "17278 2020-02-01           IN  ...          0                 0\n",
              "17279 2020-02-02           IN  ...          0                 0\n",
              "17280 2020-02-03           IN  ...          0                 0\n",
              "\n",
              "[5 rows x 8 columns]"
            ]
          },
          "metadata": {
            "tags": []
          },
          "execution_count": 60
        }
      ]
    },
    {
      "cell_type": "code",
      "metadata": {
        "id": "ioArd2ofjGTK"
      },
      "source": [
        "df_tmp = df.copy()"
      ],
      "execution_count": null,
      "outputs": []
    },
    {
      "cell_type": "code",
      "metadata": {
        "id": "bXVTRqAzidaa"
      },
      "source": [
        "# Enriching our DataFrame by datetime attributes\n",
        "\n",
        "df_tmp[\"Year\"] = df_tmp.date.dt.year\n",
        "df_tmp[\"Month\"] = df_tmp.date.dt.month\n",
        "df_tmp[\"Date\"] = df_tmp.date.dt.day\n",
        "# df_tmp[\"DayOfWeek\"] = df_tmp.date.dt.dayofweek\n",
        "# df_tmp[\"DayOfYear\"] = df_tmp.date.dt.dayofyear"
      ],
      "execution_count": null,
      "outputs": []
    },
    {
      "cell_type": "code",
      "metadata": {
        "id": "oD_cfgZ-kBST",
        "outputId": "a09cc980-4a1f-4c0f-c6c2-59ee967e7b82",
        "colab": {
          "base_uri": "https://localhost:8080/",
          "height": 195
        }
      },
      "source": [
        "df_tmp.head()"
      ],
      "execution_count": null,
      "outputs": [
        {
          "output_type": "execute_result",
          "data": {
            "text/html": [
              "<div>\n",
              "<style scoped>\n",
              "    .dataframe tbody tr th:only-of-type {\n",
              "        vertical-align: middle;\n",
              "    }\n",
              "\n",
              "    .dataframe tbody tr th {\n",
              "        vertical-align: top;\n",
              "    }\n",
              "\n",
              "    .dataframe thead th {\n",
              "        text-align: right;\n",
              "    }\n",
              "</style>\n",
              "<table border=\"1\" class=\"dataframe\">\n",
              "  <thead>\n",
              "    <tr style=\"text-align: right;\">\n",
              "      <th></th>\n",
              "      <th>date</th>\n",
              "      <th>country_code</th>\n",
              "      <th>country</th>\n",
              "      <th>WHO_region</th>\n",
              "      <th>new_cases</th>\n",
              "      <th>cumulative_cases</th>\n",
              "      <th>new_deaths</th>\n",
              "      <th>cumulative_deaths</th>\n",
              "      <th>Year</th>\n",
              "      <th>Month</th>\n",
              "      <th>Date</th>\n",
              "    </tr>\n",
              "  </thead>\n",
              "  <tbody>\n",
              "    <tr>\n",
              "      <th>17276</th>\n",
              "      <td>2020-01-30</td>\n",
              "      <td>IN</td>\n",
              "      <td>India</td>\n",
              "      <td>SEARO</td>\n",
              "      <td>5</td>\n",
              "      <td>5</td>\n",
              "      <td>0</td>\n",
              "      <td>0</td>\n",
              "      <td>2020</td>\n",
              "      <td>1</td>\n",
              "      <td>30</td>\n",
              "    </tr>\n",
              "    <tr>\n",
              "      <th>17277</th>\n",
              "      <td>2020-01-31</td>\n",
              "      <td>IN</td>\n",
              "      <td>India</td>\n",
              "      <td>SEARO</td>\n",
              "      <td>0</td>\n",
              "      <td>5</td>\n",
              "      <td>0</td>\n",
              "      <td>0</td>\n",
              "      <td>2020</td>\n",
              "      <td>1</td>\n",
              "      <td>31</td>\n",
              "    </tr>\n",
              "    <tr>\n",
              "      <th>17278</th>\n",
              "      <td>2020-02-01</td>\n",
              "      <td>IN</td>\n",
              "      <td>India</td>\n",
              "      <td>SEARO</td>\n",
              "      <td>0</td>\n",
              "      <td>5</td>\n",
              "      <td>0</td>\n",
              "      <td>0</td>\n",
              "      <td>2020</td>\n",
              "      <td>2</td>\n",
              "      <td>1</td>\n",
              "    </tr>\n",
              "    <tr>\n",
              "      <th>17279</th>\n",
              "      <td>2020-02-02</td>\n",
              "      <td>IN</td>\n",
              "      <td>India</td>\n",
              "      <td>SEARO</td>\n",
              "      <td>1</td>\n",
              "      <td>6</td>\n",
              "      <td>0</td>\n",
              "      <td>0</td>\n",
              "      <td>2020</td>\n",
              "      <td>2</td>\n",
              "      <td>2</td>\n",
              "    </tr>\n",
              "    <tr>\n",
              "      <th>17280</th>\n",
              "      <td>2020-02-03</td>\n",
              "      <td>IN</td>\n",
              "      <td>India</td>\n",
              "      <td>SEARO</td>\n",
              "      <td>1</td>\n",
              "      <td>7</td>\n",
              "      <td>0</td>\n",
              "      <td>0</td>\n",
              "      <td>2020</td>\n",
              "      <td>2</td>\n",
              "      <td>3</td>\n",
              "    </tr>\n",
              "  </tbody>\n",
              "</table>\n",
              "</div>"
            ],
            "text/plain": [
              "            date country_code country  ...  Year  Month  Date\n",
              "17276 2020-01-30           IN   India  ...  2020      1    30\n",
              "17277 2020-01-31           IN   India  ...  2020      1    31\n",
              "17278 2020-02-01           IN   India  ...  2020      2     1\n",
              "17279 2020-02-02           IN   India  ...  2020      2     2\n",
              "17280 2020-02-03           IN   India  ...  2020      2     3\n",
              "\n",
              "[5 rows x 11 columns]"
            ]
          },
          "metadata": {
            "tags": []
          },
          "execution_count": 78
        }
      ]
    },
    {
      "cell_type": "code",
      "metadata": {
        "id": "beIY_znMkcud"
      },
      "source": [
        "# iso_code, continent, location will be the same through out the data...we can drop them.\n",
        "df_tmp.drop([\"country_code\", \"country\", \"WHO_region\"], axis=1, inplace=True)"
      ],
      "execution_count": null,
      "outputs": []
    },
    {
      "cell_type": "code",
      "metadata": {
        "id": "o2t367ynkKRP",
        "outputId": "fd2e89f9-21bf-4225-bc84-3cd819052c6b",
        "colab": {
          "base_uri": "https://localhost:8080/",
          "height": 286
        }
      },
      "source": [
        "# Find the columns which contains strings\n",
        "\n",
        "for label, country in df_tmp.items():\n",
        "    if pd.api.types.is_string_dtype(country):\n",
        "        df_tmp[label] = country.astype(\"category\").cat.as_ordered()\n",
        "\n",
        "df_tmp.info()"
      ],
      "execution_count": null,
      "outputs": [
        {
          "output_type": "stream",
          "text": [
            "<class 'pandas.core.frame.DataFrame'>\n",
            "Int64Index: 224 entries, 17276 to 17499\n",
            "Data columns (total 8 columns):\n",
            " #   Column             Non-Null Count  Dtype         \n",
            "---  ------             --------------  -----         \n",
            " 0   date               224 non-null    datetime64[ns]\n",
            " 1   new_cases          224 non-null    int64         \n",
            " 2   cumulative_cases   224 non-null    int64         \n",
            " 3   new_deaths         224 non-null    int64         \n",
            " 4   cumulative_deaths  224 non-null    int64         \n",
            " 5   Year               224 non-null    int64         \n",
            " 6   Month              224 non-null    int64         \n",
            " 7   Date               224 non-null    int64         \n",
            "dtypes: datetime64[ns](1), int64(7)\n",
            "memory usage: 15.8 KB\n"
          ],
          "name": "stdout"
        }
      ]
    },
    {
      "cell_type": "markdown",
      "metadata": {
        "id": "SDD3UhhVmqwV"
      },
      "source": [
        "# Filling missing values"
      ]
    },
    {
      "cell_type": "code",
      "metadata": {
        "id": "rcYjh1J8m21t",
        "outputId": "a8a97f5e-7fdb-4d0e-da1f-7a8abd234688",
        "colab": {
          "base_uri": "https://localhost:8080/",
          "height": 354
        }
      },
      "source": [
        "corr_matrix = df_tmp.corr()\n",
        "fig, ax = plt.subplots(figsize=(5, 4))\n",
        "ax = sns.heatmap(corr_matrix,\n",
        "                 annot=True,\n",
        "                 linewidths=0.5,\n",
        "                 fmt=\".2f\",\n",
        "                 cmap=\"RdYlGn\");"
      ],
      "execution_count": null,
      "outputs": [
        {
          "output_type": "display_data",
          "data": {
            "image/png": "[encoded data removed]",
            "text/plain": [
              "<Figure size 360x288 with 2 Axes>"
            ]
          },
          "metadata": {
            "tags": [],
            "needs_background": "light"
          }
        }
      ]
    },
    {
      "cell_type": "code",
      "metadata": {
        "id": "3yX3IvsnldpO",
        "outputId": "539f331b-96f3-4a71-85cf-c98759bde7dc",
        "colab": {
          "base_uri": "https://localhost:8080/",
          "height": 178
        }
      },
      "source": [
        "df_tmp.isna().sum()"
      ],
      "execution_count": null,
      "outputs": [
        {
          "output_type": "execute_result",
          "data": {
            "text/plain": [
              "date                 0\n",
              "new_cases            0\n",
              "cumulative_cases     0\n",
              "new_deaths           0\n",
              "cumulative_deaths    0\n",
              "Year                 0\n",
              "Month                0\n",
              "Date                 0\n",
              "dtype: int64"
            ]
          },
          "metadata": {
            "tags": []
          },
          "execution_count": 82
        }
      ]
    },
    {
      "cell_type": "code",
      "metadata": {
        "id": "Ew2Vqn3Id-du",
        "outputId": "58ad18fe-97f9-470c-daf7-5469aee4a946",
        "colab": {
          "base_uri": "https://localhost:8080/",
          "height": 195
        }
      },
      "source": [
        "df_tmp.head()"
      ],
      "execution_count": null,
      "outputs": [
        {
          "output_type": "execute_result",
          "data": {
            "text/html": [
              "<div>\n",
              "<style scoped>\n",
              "    .dataframe tbody tr th:only-of-type {\n",
              "        vertical-align: middle;\n",
              "    }\n",
              "\n",
              "    .dataframe tbody tr th {\n",
              "        vertical-align: top;\n",
              "    }\n",
              "\n",
              "    .dataframe thead th {\n",
              "        text-align: right;\n",
              "    }\n",
              "</style>\n",
              "<table border=\"1\" class=\"dataframe\">\n",
              "  <thead>\n",
              "    <tr style=\"text-align: right;\">\n",
              "      <th></th>\n",
              "      <th>date</th>\n",
              "      <th>new_cases</th>\n",
              "      <th>cumulative_cases</th>\n",
              "      <th>new_deaths</th>\n",
              "      <th>cumulative_deaths</th>\n",
              "      <th>Year</th>\n",
              "      <th>Month</th>\n",
              "      <th>Date</th>\n",
              "    </tr>\n",
              "  </thead>\n",
              "  <tbody>\n",
              "    <tr>\n",
              "      <th>17276</th>\n",
              "      <td>2020-01-30</td>\n",
              "      <td>5</td>\n",
              "      <td>5</td>\n",
              "      <td>0</td>\n",
              "      <td>0</td>\n",
              "      <td>2020</td>\n",
              "      <td>1</td>\n",
              "      <td>30</td>\n",
              "    </tr>\n",
              "    <tr>\n",
              "      <th>17277</th>\n",
              "      <td>2020-01-31</td>\n",
              "      <td>0</td>\n",
              "      <td>5</td>\n",
              "      <td>0</td>\n",
              "      <td>0</td>\n",
              "      <td>2020</td>\n",
              "      <td>1</td>\n",
              "      <td>31</td>\n",
              "    </tr>\n",
              "    <tr>\n",
              "      <th>17278</th>\n",
              "      <td>2020-02-01</td>\n",
              "      <td>0</td>\n",
              "      <td>5</td>\n",
              "      <td>0</td>\n",
              "      <td>0</td>\n",
              "      <td>2020</td>\n",
              "      <td>2</td>\n",
              "      <td>1</td>\n",
              "    </tr>\n",
              "    <tr>\n",
              "      <th>17279</th>\n",
              "      <td>2020-02-02</td>\n",
              "      <td>1</td>\n",
              "      <td>6</td>\n",
              "      <td>0</td>\n",
              "      <td>0</td>\n",
              "      <td>2020</td>\n",
              "      <td>2</td>\n",
              "      <td>2</td>\n",
              "    </tr>\n",
              "    <tr>\n",
              "      <th>17280</th>\n",
              "      <td>2020-02-03</td>\n",
              "      <td>1</td>\n",
              "      <td>7</td>\n",
              "      <td>0</td>\n",
              "      <td>0</td>\n",
              "      <td>2020</td>\n",
              "      <td>2</td>\n",
              "      <td>3</td>\n",
              "    </tr>\n",
              "  </tbody>\n",
              "</table>\n",
              "</div>"
            ],
            "text/plain": [
              "            date  new_cases  cumulative_cases  ...  Year  Month  Date\n",
              "17276 2020-01-30          5                 5  ...  2020      1    30\n",
              "17277 2020-01-31          0                 5  ...  2020      1    31\n",
              "17278 2020-02-01          0                 5  ...  2020      2     1\n",
              "17279 2020-02-02          1                 6  ...  2020      2     2\n",
              "17280 2020-02-03          1                 7  ...  2020      2     3\n",
              "\n",
              "[5 rows x 8 columns]"
            ]
          },
          "metadata": {
            "tags": []
          },
          "execution_count": 83
        }
      ]
    },
    {
      "cell_type": "code",
      "metadata": {
        "id": "1kSlcvBY-aiy"
      },
      "source": [
        "from sklearn.model_selection import train_test_split\n",
        "\n",
        "X = df_tmp.drop([\"new_cases\", \"date\", \"cumulative_cases\", \"new_deaths\", \"cumulative_deaths\"], axis=1)\n",
        "y = df_tmp.new_cases\n",
        "\n",
        "x = df_tmp.drop([\"new_cases\", \"cumulative_cases\", \"new_deaths\", \"cumulative_deaths\"], axis=1)\n",
        "x_train = x[x.date < np.datetime64(\"2020-07-27\")]\n",
        "x_test = x[x.date >= np.datetime64(\"2020-07-27\")]\n",
        "\n",
        "X_train, X_test, y_train, y_test = train_test_split(X, y, test_size=0.2, shuffle=False)"
      ],
      "execution_count": null,
      "outputs": []
    },
    {
      "cell_type": "code",
      "metadata": {
        "id": "PhsJHkA1_446"
      },
      "source": [
        "from sklearn.metrics import mean_squared_log_error, mean_absolute_error, mean_squared_error\n",
        "\n",
        "\n",
        "def rmse(y_true, y_preds):\n",
        "    return np.sqrt(mean_squared_error(y_true, y_preds))\n",
        "\n",
        "def rmsle(y_true, y_preds):\n",
        "    return np.sqrt(mean_squared_log_error(y_true, y_preds))\n",
        "\n",
        "def show_scores(model):\n",
        "    test_preds = model.predict(X_test)\n",
        "    \n",
        "    scores = {\n",
        "        \"Test MAE\": mean_absolute_error(y_test, test_preds),\n",
        "        \"Test RMSLE\": rmsle(y_test, test_preds),\n",
        "        \"Test RMSE\": rmse(y_test, test_preds),\n",
        "    }\n",
        "    return scores"
      ],
      "execution_count": null,
      "outputs": []
    },
    {
      "cell_type": "markdown",
      "metadata": {
        "id": "iyZBMFP5wtXw"
      },
      "source": [
        "# Modelling\n",
        "\n",
        "## 1. RandomForestRegressor"
      ]
    },
    {
      "cell_type": "code",
      "metadata": {
        "id": "CHKm_-IK9u_S",
        "outputId": "cd0cb551-e047-404f-e94e-74cb39635cf5",
        "colab": {
          "base_uri": "https://localhost:8080/",
          "height": 142
        }
      },
      "source": [
        "from sklearn.ensemble import RandomForestRegressor\n",
        "\n",
        "model = RandomForestRegressor(random_state=69)\n",
        "\n",
        "model.fit(X_train, y_train)"
      ],
      "execution_count": null,
      "outputs": [
        {
          "output_type": "execute_result",
          "data": {
            "text/plain": [
              "RandomForestRegressor(bootstrap=True, ccp_alpha=0.0, criterion='mse',\n",
              "                      max_depth=None, max_features='auto', max_leaf_nodes=None,\n",
              "                      max_samples=None, min_impurity_decrease=0.0,\n",
              "                      min_impurity_split=None, min_samples_leaf=1,\n",
              "                      min_samples_split=2, min_weight_fraction_leaf=0.0,\n",
              "                      n_estimators=100, n_jobs=None, oob_score=False,\n",
              "                      random_state=69, verbose=0, warm_start=False)"
            ]
          },
          "metadata": {
            "tags": []
          },
          "execution_count": 92
        }
      ]
    },
    {
      "cell_type": "code",
      "metadata": {
        "id": "aT30aEgM_ijC",
        "outputId": "5d75857e-93f5-4836-8fea-6c84a00dac2b",
        "colab": {
          "base_uri": "https://localhost:8080/",
          "height": 34
        }
      },
      "source": [
        "score1 = model.score(X_test, y_test)\n",
        "score1"
      ],
      "execution_count": null,
      "outputs": [
        {
          "output_type": "execute_result",
          "data": {
            "text/plain": [
              "-8.956360672682981"
            ]
          },
          "metadata": {
            "tags": []
          },
          "execution_count": 93
        }
      ]
    },
    {
      "cell_type": "code",
      "metadata": {
        "id": "4UCWh2il_wv5",
        "outputId": "b26661ed-5912-4011-81a9-a3666cacf128",
        "colab": {
          "base_uri": "https://localhost:8080/",
          "height": 52
        }
      },
      "source": [
        "y_preds = model.predict(X_test)\n",
        "y_preds[:10]"
      ],
      "execution_count": null,
      "outputs": [
        {
          "output_type": "execute_result",
          "data": {
            "text/plain": [
              "array([48299.42, 48299.42, 48299.42, 48299.42, 48299.42, 19694.85,\n",
              "       19848.3 , 20922.47, 22544.41, 24194.05])"
            ]
          },
          "metadata": {
            "tags": []
          },
          "execution_count": 94
        }
      ]
    },
    {
      "cell_type": "code",
      "metadata": {
        "id": "SBDnsXTrBw6_",
        "outputId": "83823a9d-9753-4aa0-abee-e5975ef313a9",
        "colab": {
          "base_uri": "https://localhost:8080/",
          "height": 70
        }
      },
      "source": [
        "rfr_scores = show_scores(model)\n",
        "rfr_scores"
      ],
      "execution_count": null,
      "outputs": [
        {
          "output_type": "execute_result",
          "data": {
            "text/plain": [
              "{'Test MAE': 33062.931777777776,\n",
              " 'Test RMSE': 37364.279597422785,\n",
              " 'Test RMSLE': 0.8319113031755988}"
            ]
          },
          "metadata": {
            "tags": []
          },
          "execution_count": 96
        }
      ]
    },
    {
      "cell_type": "code",
      "metadata": {
        "id": "G2sGQxfkB36L"
      },
      "source": [
        "# # using GridSearchCV\n",
        "# from sklearn.model_selection import GridSearchCV\n",
        "\n",
        "# gs_grid = {\n",
        "#     \"n_estimators\": np.arange(10, 100, 10),\n",
        "#     \"max_depth\": [None, 3, 5, 10],\n",
        "#     \"min_samples_split\": np.arange(2, 10, 2),\n",
        "#     \"min_samples_leaf\": np.arange(1, 10 ,2),\n",
        "#     \"max_features\": [0.5, 1, \"auto\", \"sqrt\"]\n",
        "# }\n",
        "\n",
        "# gs_model = GridSearchCV(RandomForestRegressor(n_jobs=-1,\n",
        "#                                               random_state=69),\n",
        "#                         param_grid=gs_grid,\n",
        "#                         cv=5,\n",
        "#                         verbose=True)\n",
        "\n",
        "# gs_model.fit(X_train, y_train)"
      ],
      "execution_count": null,
      "outputs": []
    },
    {
      "cell_type": "markdown",
      "metadata": {
        "id": "NhaYRdkexApZ"
      },
      "source": [
        "## 2. Linear Regression"
      ]
    },
    {
      "cell_type": "code",
      "metadata": {
        "id": "YTdSF2twPmWS"
      },
      "source": [
        "from sklearn.linear_model import LinearRegression\n",
        "\n",
        "np.random.seed(69)\n",
        "\n",
        "model2 = LinearRegression().fit(X_train, y_train)"
      ],
      "execution_count": null,
      "outputs": []
    },
    {
      "cell_type": "code",
      "metadata": {
        "id": "MTVIadxKyHqE",
        "outputId": "1d284eae-accc-49d6-fdbb-af48fbcceb77",
        "colab": {
          "base_uri": "https://localhost:8080/",
          "height": 34
        }
      },
      "source": [
        "score2 = model2.score(X_test, y_test)\n",
        "score2"
      ],
      "execution_count": null,
      "outputs": [
        {
          "output_type": "execute_result",
          "data": {
            "text/plain": [
              "-10.258940018555633"
            ]
          },
          "metadata": {
            "tags": []
          },
          "execution_count": 98
        }
      ]
    },
    {
      "cell_type": "code",
      "metadata": {
        "id": "4h3IMWCEkK1c",
        "outputId": "a4f3e6bf-dcb7-4c5c-9920-669e438446d0",
        "colab": {
          "base_uri": "https://localhost:8080/",
          "height": 70
        }
      },
      "source": [
        "lr_scores = show_scores(model2)\n",
        "lr_scores"
      ],
      "execution_count": null,
      "outputs": [
        {
          "output_type": "execute_result",
          "data": {
            "text/plain": [
              "{'Test MAE': 38493.393612595115,\n",
              " 'Test RMSE': 39733.33836056726,\n",
              " 'Test RMSLE': 0.8629739338848748}"
            ]
          },
          "metadata": {
            "tags": []
          },
          "execution_count": 99
        }
      ]
    },
    {
      "cell_type": "markdown",
      "metadata": {
        "id": "9VjwDC0w301Y"
      },
      "source": [
        "## 3. Support Vector Regression (SVR)\n",
        "\n",
        "- Return the coefficient of determination R^2 of the prediction.\n",
        "- The best possible score is 1.0 and **it can be negative (because the model can be arbitrarily worse)**. A constant model that *always predicts the expected value of y*, disregarding the input features, would get a **R^2 score of 0.0**."
      ]
    },
    {
      "cell_type": "code",
      "metadata": {
        "id": "-tc12vkOyflQ"
      },
      "source": [
        "from sklearn.svm import SVR\n",
        "\n",
        "np.random.seed(69)\n",
        "\n",
        "model3 = SVR().fit(X_train, y_train)"
      ],
      "execution_count": null,
      "outputs": []
    },
    {
      "cell_type": "code",
      "metadata": {
        "id": "l6pLdlxc4LGT",
        "outputId": "1eadfb02-5315-46b1-a86c-9d97a13f5b67",
        "colab": {
          "base_uri": "https://localhost:8080/",
          "height": 34
        }
      },
      "source": [
        "score3 = model3.score(X_test, y_test)\n",
        "score3"
      ],
      "execution_count": null,
      "outputs": [
        {
          "output_type": "execute_result",
          "data": {
            "text/plain": [
              "-29.76739678511015"
            ]
          },
          "metadata": {
            "tags": []
          },
          "execution_count": 101
        }
      ]
    },
    {
      "cell_type": "code",
      "metadata": {
        "id": "lmX96D1B6x5p",
        "outputId": "f453447d-8975-43a0-eca4-d0876650b690",
        "colab": {
          "base_uri": "https://localhost:8080/",
          "height": 70
        }
      },
      "source": [
        "svr_scores = show_scores(model3)\n",
        "svr_scores"
      ],
      "execution_count": null,
      "outputs": [
        {
          "output_type": "execute_result",
          "data": {
            "text/plain": [
              "{'Test MAE': 64606.5769214388,\n",
              " 'Test RMSE': 65682.80317344813,\n",
              " 'Test RMSLE': 3.6414722836300935}"
            ]
          },
          "metadata": {
            "tags": []
          },
          "execution_count": 102
        }
      ]
    },
    {
      "cell_type": "markdown",
      "metadata": {
        "id": "YBghBXle6GJx"
      },
      "source": [
        "## 4. AdaBoost Regressor"
      ]
    },
    {
      "cell_type": "code",
      "metadata": {
        "id": "zDc8edt14Ptw"
      },
      "source": [
        "from sklearn.ensemble import AdaBoostRegressor\n",
        "\n",
        "model4 = AdaBoostRegressor(random_state=69).fit(X_train, y_train)"
      ],
      "execution_count": null,
      "outputs": []
    },
    {
      "cell_type": "code",
      "metadata": {
        "id": "StHRt7Yn7Dhg",
        "outputId": "70ed875d-63ed-46e7-d4ff-7044f34c4920",
        "colab": {
          "base_uri": "https://localhost:8080/",
          "height": 34
        }
      },
      "source": [
        "score4 = model4.score(X_test, y_test)\n",
        "score4"
      ],
      "execution_count": null,
      "outputs": [
        {
          "output_type": "execute_result",
          "data": {
            "text/plain": [
              "-8.943841797126655"
            ]
          },
          "metadata": {
            "tags": []
          },
          "execution_count": 104
        }
      ]
    },
    {
      "cell_type": "code",
      "metadata": {
        "id": "bMZgbaBy7WXk",
        "outputId": "b3d2d89f-4af2-48ff-a6ca-d788a229378d",
        "colab": {
          "base_uri": "https://localhost:8080/",
          "height": 70
        }
      },
      "source": [
        "adaboost_scores = show_scores(model4)\n",
        "adaboost_scores"
      ],
      "execution_count": null,
      "outputs": [
        {
          "output_type": "execute_result",
          "data": {
            "text/plain": [
              "{'Test MAE': 33085.94253149389,\n",
              " 'Test RMSE': 37340.781759636884,\n",
              " 'Test RMSLE': 0.8273075033264329}"
            ]
          },
          "metadata": {
            "tags": []
          },
          "execution_count": 105
        }
      ]
    },
    {
      "cell_type": "markdown",
      "metadata": {
        "id": "RuG86l9L77bM"
      },
      "source": [
        "## 5. XGBoost"
      ]
    },
    {
      "cell_type": "code",
      "metadata": {
        "id": "e1byRGjK7fIt",
        "outputId": "6a6b2827-7f7b-4336-fe9b-bd05bf7387ba",
        "colab": {
          "base_uri": "https://localhost:8080/",
          "height": 72
        }
      },
      "source": [
        "from xgboost import XGBRegressor\n",
        "\n",
        "np.random.seed(69)\n",
        "\n",
        "model5 = XGBRegressor().fit(X_train, y_train)\n",
        "score5 = model5.score(X_test, y_test)\n",
        "score5"
      ],
      "execution_count": null,
      "outputs": [
        {
          "output_type": "stream",
          "text": [
            "[11:54:01] WARNING: /workspace/src/objective/regression_obj.cu:152: reg:linear is now deprecated in favor of reg:squarederror.\n"
          ],
          "name": "stdout"
        },
        {
          "output_type": "execute_result",
          "data": {
            "text/plain": [
              "-8.908481719126634"
            ]
          },
          "metadata": {
            "tags": []
          },
          "execution_count": 106
        }
      ]
    },
    {
      "cell_type": "code",
      "metadata": {
        "id": "BDxINFZr4Ar6",
        "outputId": "7958e16a-799b-44ae-d6e6-0e82a6b6b183",
        "colab": {
          "base_uri": "https://localhost:8080/",
          "height": 70
        }
      },
      "source": [
        "xgboost_scores = show_scores(model5)\n",
        "xgboost_scores"
      ],
      "execution_count": null,
      "outputs": [
        {
          "output_type": "execute_result",
          "data": {
            "text/plain": [
              "{'Test MAE': 32900.021484375,\n",
              " 'Test RMSE': 37274.33114234199,\n",
              " 'Test RMSLE': 0.831691494771399}"
            ]
          },
          "metadata": {
            "tags": []
          },
          "execution_count": 118
        }
      ]
    },
    {
      "cell_type": "markdown",
      "metadata": {
        "id": "BlqtT8d4qoIV"
      },
      "source": [
        "## Polynomial Regression"
      ]
    },
    {
      "cell_type": "code",
      "metadata": {
        "id": "fgu4I9MSqnU6"
      },
      "source": [
        ""
      ],
      "execution_count": null,
      "outputs": []
    },
    {
      "cell_type": "code",
      "metadata": {
        "id": "IDstM31QyJYs",
        "outputId": "30cc2d23-9cc7-4e3b-88aa-54ec2e42c1fb",
        "colab": {
          "base_uri": "https://localhost:8080/",
          "height": 379
        }
      },
      "source": [
        "model_scores = {\n",
        "    \"RandomForestRegressor\": score1,\n",
        "    \"Linear Regression\": score2,\n",
        "    \"SVR\": score3,\n",
        "    \"AdaBoostRegressor\": score4,\n",
        "    \"XGBRegressor\": score5\n",
        "}\n",
        "\n",
        "model_compare = pd.DataFrame(model_scores, index=[\"Accuracy\"])\n",
        "model_compare.T.plot(kind=\"bar\");"
      ],
      "execution_count": null,
      "outputs": [
        {
          "output_type": "display_data",
          "data": {
            "image/png": "[encoded data removed]",
            "text/plain": [
              "<Figure size 432x288 with 1 Axes>"
            ]
          },
          "metadata": {
            "tags": [],
            "needs_background": "light"
          }
        }
      ]
    },
    {
      "cell_type": "code",
      "metadata": {
        "id": "VOeQsVBLp6oW",
        "outputId": "5fbc317f-a665-4c81-f35c-749c63c8dd2d",
        "colab": {
          "base_uri": "https://localhost:8080/",
          "height": 286
        }
      },
      "source": [
        "scores_all = [rfr_scores, lr_scores, svr_scores, adaboost_scores, xgboost_scores]\n",
        "scores_all"
      ],
      "execution_count": null,
      "outputs": [
        {
          "output_type": "execute_result",
          "data": {
            "text/plain": [
              "[{'Test MAE': 33062.931777777776,\n",
              "  'Test RMSE': 37364.279597422785,\n",
              "  'Test RMSLE': 0.8319113031755988},\n",
              " {'Test MAE': 38493.393612595115,\n",
              "  'Test RMSE': 39733.33836056726,\n",
              "  'Test RMSLE': 0.8629739338848748},\n",
              " {'Test MAE': 64606.5769214388,\n",
              "  'Test RMSE': 65682.80317344813,\n",
              "  'Test RMSLE': 3.6414722836300935},\n",
              " {'Test MAE': 33085.94253149389,\n",
              "  'Test RMSE': 37340.781759636884,\n",
              "  'Test RMSLE': 0.8273075033264329},\n",
              " {'Test MAE': 32900.021484375,\n",
              "  'Test RMSE': 37274.33114234199,\n",
              "  'Test RMSLE': 0.831691494771399}]"
            ]
          },
          "metadata": {
            "tags": []
          },
          "execution_count": 119
        }
      ]
    },
    {
      "cell_type": "code",
      "metadata": {
        "id": "NciZ4ibHpl7Q",
        "outputId": "c49f1b53-4f1f-4a42-8983-0a24c5dba30b",
        "colab": {
          "base_uri": "https://localhost:8080/",
          "height": 195
        }
      },
      "source": [
        "all_scores = [[i[j] for j in [\"Test MAE\", \"Test RMSE\", \"Test RMSLE\"]] for i in scores_all]\n",
        "val_scores_df = pd.DataFrame(all_scores,\n",
        "                             index=[\"RandomForestRegressor scores\", \"LinearRegression scores\", \"SVR scores\", \"AdaBoost scores\", \"XGBRegressor scores\"],\n",
        "                             columns=[\"Test MAE\", \"Test RMSE\", \"Test RMSLE\"])\n",
        "val_scores_df"
      ],
      "execution_count": null,
      "outputs": [
        {
          "output_type": "execute_result",
          "data": {
            "text/html": [
              "<div>\n",
              "<style scoped>\n",
              "    .dataframe tbody tr th:only-of-type {\n",
              "        vertical-align: middle;\n",
              "    }\n",
              "\n",
              "    .dataframe tbody tr th {\n",
              "        vertical-align: top;\n",
              "    }\n",
              "\n",
              "    .dataframe thead th {\n",
              "        text-align: right;\n",
              "    }\n",
              "</style>\n",
              "<table border=\"1\" class=\"dataframe\">\n",
              "  <thead>\n",
              "    <tr style=\"text-align: right;\">\n",
              "      <th></th>\n",
              "      <th>Test MAE</th>\n",
              "      <th>Test RMSE</th>\n",
              "      <th>Test RMSLE</th>\n",
              "    </tr>\n",
              "  </thead>\n",
              "  <tbody>\n",
              "    <tr>\n",
              "      <th>RandomForestRegressor scores</th>\n",
              "      <td>33062.931778</td>\n",
              "      <td>37364.279597</td>\n",
              "      <td>0.831911</td>\n",
              "    </tr>\n",
              "    <tr>\n",
              "      <th>LinearRegression scores</th>\n",
              "      <td>38493.393613</td>\n",
              "      <td>39733.338361</td>\n",
              "      <td>0.862974</td>\n",
              "    </tr>\n",
              "    <tr>\n",
              "      <th>SVR scores</th>\n",
              "      <td>64606.576921</td>\n",
              "      <td>65682.803173</td>\n",
              "      <td>3.641472</td>\n",
              "    </tr>\n",
              "    <tr>\n",
              "      <th>AdaBoost scores</th>\n",
              "      <td>33085.942531</td>\n",
              "      <td>37340.781760</td>\n",
              "      <td>0.827308</td>\n",
              "    </tr>\n",
              "    <tr>\n",
              "      <th>XGBRegressor scores</th>\n",
              "      <td>32900.021484</td>\n",
              "      <td>37274.331142</td>\n",
              "      <td>0.831691</td>\n",
              "    </tr>\n",
              "  </tbody>\n",
              "</table>\n",
              "</div>"
            ],
            "text/plain": [
              "                                  Test MAE     Test RMSE  Test RMSLE\n",
              "RandomForestRegressor scores  33062.931778  37364.279597    0.831911\n",
              "LinearRegression scores       38493.393613  39733.338361    0.862974\n",
              "SVR scores                    64606.576921  65682.803173    3.641472\n",
              "AdaBoost scores               33085.942531  37340.781760    0.827308\n",
              "XGBRegressor scores           32900.021484  37274.331142    0.831691"
            ]
          },
          "metadata": {
            "tags": []
          },
          "execution_count": 120
        }
      ]
    },
    {
      "cell_type": "code",
      "metadata": {
        "id": "XeKH4wATpCyR",
        "outputId": "4a60e13d-b203-4a73-e8a7-9b1eadd51f1f",
        "colab": {
          "base_uri": "https://localhost:8080/",
          "height": 136
        }
      },
      "source": [
        "val_scores_df_T = val_scores_df.T\n",
        "val_scores_df_T"
      ],
      "execution_count": null,
      "outputs": [
        {
          "output_type": "execute_result",
          "data": {
            "text/html": [
              "<div>\n",
              "<style scoped>\n",
              "    .dataframe tbody tr th:only-of-type {\n",
              "        vertical-align: middle;\n",
              "    }\n",
              "\n",
              "    .dataframe tbody tr th {\n",
              "        vertical-align: top;\n",
              "    }\n",
              "\n",
              "    .dataframe thead th {\n",
              "        text-align: right;\n",
              "    }\n",
              "</style>\n",
              "<table border=\"1\" class=\"dataframe\">\n",
              "  <thead>\n",
              "    <tr style=\"text-align: right;\">\n",
              "      <th></th>\n",
              "      <th>RandomForestRegressor scores</th>\n",
              "      <th>LinearRegression scores</th>\n",
              "      <th>SVR scores</th>\n",
              "      <th>AdaBoost scores</th>\n",
              "      <th>XGBRegressor scores</th>\n",
              "    </tr>\n",
              "  </thead>\n",
              "  <tbody>\n",
              "    <tr>\n",
              "      <th>Test MAE</th>\n",
              "      <td>33062.931778</td>\n",
              "      <td>38493.393613</td>\n",
              "      <td>64606.576921</td>\n",
              "      <td>33085.942531</td>\n",
              "      <td>32900.021484</td>\n",
              "    </tr>\n",
              "    <tr>\n",
              "      <th>Test RMSE</th>\n",
              "      <td>37364.279597</td>\n",
              "      <td>39733.338361</td>\n",
              "      <td>65682.803173</td>\n",
              "      <td>37340.781760</td>\n",
              "      <td>37274.331142</td>\n",
              "    </tr>\n",
              "    <tr>\n",
              "      <th>Test RMSLE</th>\n",
              "      <td>0.831911</td>\n",
              "      <td>0.862974</td>\n",
              "      <td>3.641472</td>\n",
              "      <td>0.827308</td>\n",
              "      <td>0.831691</td>\n",
              "    </tr>\n",
              "  </tbody>\n",
              "</table>\n",
              "</div>"
            ],
            "text/plain": [
              "            RandomForestRegressor scores  ...  XGBRegressor scores\n",
              "Test MAE                    33062.931778  ...         32900.021484\n",
              "Test RMSE                   37364.279597  ...         37274.331142\n",
              "Test RMSLE                      0.831911  ...             0.831691\n",
              "\n",
              "[3 rows x 5 columns]"
            ]
          },
          "metadata": {
            "tags": []
          },
          "execution_count": 122
        }
      ]
    },
    {
      "cell_type": "code",
      "metadata": {
        "id": "Hs5Y0WhNxku9",
        "outputId": "0290e80f-fb07-41f2-a95c-7b2462d38eaf",
        "colab": {
          "base_uri": "https://localhost:8080/",
          "height": 412
        }
      },
      "source": [
        "val_scores_df.plot.bar();"
      ],
      "execution_count": null,
      "outputs": [
        {
          "output_type": "display_data",
          "data": {
            "image/png": "[encoded data removed]",
            "text/plain": [
              "<Figure size 432x288 with 1 Axes>"
            ]
          },
          "metadata": {
            "tags": [],
            "needs_background": "light"
          }
        }
      ]
    },
    {
      "cell_type": "code",
      "metadata": {
        "id": "9aeFECcF5MgJ",
        "outputId": "d9f2d8c7-53e1-4412-bb47-e94828277bac",
        "colab": {
          "base_uri": "https://localhost:8080/",
          "height": 392
        }
      },
      "source": [
        "test_dates = x_test.date\n",
        "\n",
        "fig, ax = plt.subplots(figsize=(10, 6))\n",
        "ax.plot(df_tmp.date, df_tmp.new_cases)\n",
        "ax.plot(x.date, model.predict(X), label=\"Random Forest Regressor\")\n",
        "ax.plot(x.date, model2.predict(X), label=\"Linear Regressor\")\n",
        "ax.plot(x.date, model3.predict(X), label=\"SVR\")\n",
        "ax.plot(x.date, model4.predict(X), label=\"AdaBoost\")\n",
        "ax.plot(x.date, model5.predict(X), label=\"XGBoost\")\n",
        "ax.legend()\n",
        "ax.axvline(np.datetime64(\"2020-07-27\"),color='r')"
      ],
      "execution_count": null,
      "outputs": [
        {
          "output_type": "execute_result",
          "data": {
            "text/plain": [
              "<matplotlib.lines.Line2D at 0x7faa9d187198>"
            ]
          },
          "metadata": {
            "tags": []
          },
          "execution_count": 141
        },
        {
          "output_type": "display_data",
          "data": {
            "image/png": "[encoded data removed]",
            "text/plain": [
              "<Figure size 720x432 with 1 Axes>"
            ]
          },
          "metadata": {
            "tags": [],
            "needs_background": "light"
          }
        }
      ]
    },
    {
      "cell_type": "code",
      "metadata": {
        "id": "ssGHi5Bx5jjl",
        "outputId": "2dcb24ef-8811-4106-b32a-8c8cc4171cd6",
        "colab": {
          "base_uri": "https://localhost:8080/",
          "height": 1000
        }
      },
      "source": [
        "fig, ax1 = plt.subplots()\n",
        "fig, ax2 = plt.subplots()\n",
        "fig, ax3 = plt.subplots()\n",
        "fig, ax4 = plt.subplots()\n",
        "fig, ax5 = plt.subplots(figsize=(8, 6))\n",
        "\n",
        "ax1.plot(df_tmp.date, df_tmp.new_cases);\n",
        "ax2.plot(df_tmp.date, df_tmp.new_cases);\n",
        "ax3.plot(df_tmp.date, df_tmp.new_cases);\n",
        "ax4.plot(df_tmp.date, df_tmp.new_cases);\n",
        "ax5.plot(df_tmp.date, df_tmp.new_cases);\n",
        "\n",
        "ax1.plot(x.date, model.predict(X),label='Random Forest',color='orange');\n",
        "\n",
        "ax2.plot(x.date, model2.predict(X),label='Linear Regression',color='orange');\n",
        "\n",
        "ax3.plot(x.date, model3.predict(X),label='SVR',color='orange');\n",
        "\n",
        "ax4.plot(x.date, model4.predict(X),label='AdaBoost',color='orange');\n",
        "\n",
        "ax5.plot(x.date, model5.predict(X),label='XGBoost',color='orange');\n",
        "\n",
        "ax1.legend()\n",
        "ax2.legend()\n",
        "ax3.legend()\n",
        "ax4.legend()\n",
        "ax5.legend()\n",
        "\n",
        "ax1.axvline(np.datetime64(\"2020-07-27\"),color='r')\n",
        "ax2.axvline(np.datetime64(\"2020-07-27\"),color='r')\n",
        "ax3.axvline(np.datetime64(\"2020-07-27\"),color='r')\n",
        "ax4.axvline(np.datetime64(\"2020-07-27\"),color='r')\n",
        "ax5.axvline(np.datetime64(\"2020-07-27\"),color='r');\n"
      ],
      "execution_count": null,
      "outputs": [
        {
          "output_type": "display_data",
          "data": {
            "image/png": "[encoded data removed]",
            "text/plain": [
              "<Figure size 432x288 with 1 Axes>"
            ]
          },
          "metadata": {
            "tags": [],
            "needs_background": "light"
          }
        },
        {
          "output_type": "display_data",
          "data": {
            "image/png": "[encoded data removed]",
            "text/plain": [
              "<Figure size 432x288 with 1 Axes>"
            ]
          },
          "metadata": {
            "tags": [],
            "needs_background": "light"
          }
        },
        {
          "output_type": "display_data",
          "data": {
            "image/png": "[encoded data removed]",
            "text/plain": [
              "<Figure size 432x288 with 1 Axes>"
            ]
          },
          "metadata": {
            "tags": [],
            "needs_background": "light"
          }
        },
        {
          "output_type": "display_data",
          "data": {
            "image/png": "[encoded data removed]",
            "text/plain": [
              "<Figure size 432x288 with 1 Axes>"
            ]
          },
          "metadata": {
            "tags": [],
            "needs_background": "light"
          }
        },
        {
          "output_type": "display_data",
          "data": {
            "image/png": "[encoded data removed]",
            "text/plain": [
              "<Figure size 576x432 with 1 Axes>"
            ]
          },
          "metadata": {
            "tags": [],
            "needs_background": "light"
          }
        }
      ]
    },
    {
      "cell_type": "code",
      "metadata": {
        "id": "3yXF2-409qgN"
      },
      "source": [
        ""
      ],
      "execution_count": null,
      "outputs": []
    }
  ]
}